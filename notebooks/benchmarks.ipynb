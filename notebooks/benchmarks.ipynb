{
 "cells": [
  {
   "cell_type": "code",
   "execution_count": 11,
   "metadata": {},
   "outputs": [],
   "source": [
    "import glob\n",
    "import json\n",
    "import pandas as pd\n",
    "import matplotlib.pyplot as plt\n",
    "import os\n",
    "import time\n",
    "from functools import reduce\n",
    "from pylab import rcParams\n",
    "rcParams['figure.figsize'] = 10,10"
   ]
  },
  {
   "cell_type": "code",
   "execution_count": 22,
   "metadata": {},
   "outputs": [
    {
     "output_type": "stream",
     "name": "stdout",
     "text": "{'file_num': 4, 'file_size': 641946890, 'real': 6.353, 'user': 15.615, 'sys': 2.917, 'point_num': 18880735, 'id': '30I8399019000'}\n{'file_num': 4, 'file_size': 635859292, 'real': 9.813, 'user': 15.659, 'sys': 3.451, 'point_num': 18701690, 'id': '30I8399019001'}\n{'file_num': 4, 'file_size': 641868078, 'real': 9.723, 'user': 15.506, 'sys': 3.543, 'point_num': 18878420, 'id': '30I8399019002'}\n{'file_num': 4, 'file_size': 649677538, 'real': 9.866, 'user': 15.898, 'sys': 3.503, 'point_num': 19108110, 'id': '30I8399019003'}\n{'file_num': 4, 'file_size': 648882006, 'real': 9.814, 'user': 15.642, 'sys': 3.718, 'point_num': 19084710, 'id': '30I8399019004'}\n{'file_num': 4, 'file_size': 637587546, 'real': 9.79, 'user': 15.432, 'sys': 3.415, 'point_num': 18752520, 'id': '30I8399019005'}\n{'file_num': 3, 'file_size': 605604597, 'real': 9.172, 'user': 14.535, 'sys': 3.49, 'point_num': 17811860, 'id': '30I8399019006'}\n{'file_num': 3, 'file_size': 618411615, 'real': 9.528, 'user': 15.16, 'sys': 3.537, 'point_num': 18188535, 'id': '30I8399019007'}\n{'file_num': 4, 'file_size': 629775264, 'real': 9.763, 'user': 15.506, 'sys': 3.469, 'point_num': 18522750, 'id': '30I8399019008'}\n{'file_num': 4, 'file_size': 650957842, 'real': 10.053, 'user': 15.797, 'sys': 3.648, 'point_num': 19145765, 'id': '30I8399019009'}\n{'file_num': 4, 'file_size': 667181520, 'real': 10.351, 'user': 16.441, 'sys': 3.526, 'point_num': 19622930, 'id': '30I8399019010'}\n{'file_num': 4, 'file_size': 672294134, 'real': 10.498, 'user': 16.559, 'sys': 3.708, 'point_num': 19773305, 'id': '30I8399019011'}\n{'file_num': 4, 'file_size': 649376502, 'real': 10.082, 'user': 15.897, 'sys': 3.586, 'point_num': 19099255, 'id': '30I8399019012'}\n{'file_num': 4, 'file_size': 648721322, 'real': 10.233, 'user': 16.155, 'sys': 3.478, 'point_num': 19079985, 'id': '30I8399019013'}\n"
    },
    {
     "output_type": "execute_result",
     "data": {
      "text/plain": "    file_num  file_size    real    user    sys  point_num             id\n0          4  641946890   6.353  15.615  2.917   18880735  30I8399019000\n1          4  635859292   9.813  15.659  3.451   18701690  30I8399019001\n2          4  641868078   9.723  15.506  3.543   18878420  30I8399019002\n3          4  649677538   9.866  15.898  3.503   19108110  30I8399019003\n4          4  648882006   9.814  15.642  3.718   19084710  30I8399019004\n5          4  637587546   9.790  15.432  3.415   18752520  30I8399019005\n6          3  605604597   9.172  14.535  3.490   17811860  30I8399019006\n7          3  618411615   9.528  15.160  3.537   18188535  30I8399019007\n8          4  629775264   9.763  15.506  3.469   18522750  30I8399019008\n9          4  650957842  10.053  15.797  3.648   19145765  30I8399019009\n10         4  667181520  10.351  16.441  3.526   19622930  30I8399019010\n11         4  672294134  10.498  16.559  3.708   19773305  30I8399019011\n12         4  649376502  10.082  15.897  3.586   19099255  30I8399019012\n13         4  648721322  10.233  16.155  3.478   19079985  30I8399019013",
      "text/html": "<div>\n<style scoped>\n    .dataframe tbody tr th:only-of-type {\n        vertical-align: middle;\n    }\n\n    .dataframe tbody tr th {\n        vertical-align: top;\n    }\n\n    .dataframe thead th {\n        text-align: right;\n    }\n</style>\n<table border=\"1\" class=\"dataframe\">\n  <thead>\n    <tr style=\"text-align: right;\">\n      <th></th>\n      <th>file_num</th>\n      <th>file_size</th>\n      <th>real</th>\n      <th>user</th>\n      <th>sys</th>\n      <th>point_num</th>\n      <th>id</th>\n    </tr>\n  </thead>\n  <tbody>\n    <tr>\n      <th>0</th>\n      <td>4</td>\n      <td>641946890</td>\n      <td>6.353</td>\n      <td>15.615</td>\n      <td>2.917</td>\n      <td>18880735</td>\n      <td>30I8399019000</td>\n    </tr>\n    <tr>\n      <th>1</th>\n      <td>4</td>\n      <td>635859292</td>\n      <td>9.813</td>\n      <td>15.659</td>\n      <td>3.451</td>\n      <td>18701690</td>\n      <td>30I8399019001</td>\n    </tr>\n    <tr>\n      <th>2</th>\n      <td>4</td>\n      <td>641868078</td>\n      <td>9.723</td>\n      <td>15.506</td>\n      <td>3.543</td>\n      <td>18878420</td>\n      <td>30I8399019002</td>\n    </tr>\n    <tr>\n      <th>3</th>\n      <td>4</td>\n      <td>649677538</td>\n      <td>9.866</td>\n      <td>15.898</td>\n      <td>3.503</td>\n      <td>19108110</td>\n      <td>30I8399019003</td>\n    </tr>\n    <tr>\n      <th>4</th>\n      <td>4</td>\n      <td>648882006</td>\n      <td>9.814</td>\n      <td>15.642</td>\n      <td>3.718</td>\n      <td>19084710</td>\n      <td>30I8399019004</td>\n    </tr>\n    <tr>\n      <th>5</th>\n      <td>4</td>\n      <td>637587546</td>\n      <td>9.790</td>\n      <td>15.432</td>\n      <td>3.415</td>\n      <td>18752520</td>\n      <td>30I8399019005</td>\n    </tr>\n    <tr>\n      <th>6</th>\n      <td>3</td>\n      <td>605604597</td>\n      <td>9.172</td>\n      <td>14.535</td>\n      <td>3.490</td>\n      <td>17811860</td>\n      <td>30I8399019006</td>\n    </tr>\n    <tr>\n      <th>7</th>\n      <td>3</td>\n      <td>618411615</td>\n      <td>9.528</td>\n      <td>15.160</td>\n      <td>3.537</td>\n      <td>18188535</td>\n      <td>30I8399019007</td>\n    </tr>\n    <tr>\n      <th>8</th>\n      <td>4</td>\n      <td>629775264</td>\n      <td>9.763</td>\n      <td>15.506</td>\n      <td>3.469</td>\n      <td>18522750</td>\n      <td>30I8399019008</td>\n    </tr>\n    <tr>\n      <th>9</th>\n      <td>4</td>\n      <td>650957842</td>\n      <td>10.053</td>\n      <td>15.797</td>\n      <td>3.648</td>\n      <td>19145765</td>\n      <td>30I8399019009</td>\n    </tr>\n    <tr>\n      <th>10</th>\n      <td>4</td>\n      <td>667181520</td>\n      <td>10.351</td>\n      <td>16.441</td>\n      <td>3.526</td>\n      <td>19622930</td>\n      <td>30I8399019010</td>\n    </tr>\n    <tr>\n      <th>11</th>\n      <td>4</td>\n      <td>672294134</td>\n      <td>10.498</td>\n      <td>16.559</td>\n      <td>3.708</td>\n      <td>19773305</td>\n      <td>30I8399019011</td>\n    </tr>\n    <tr>\n      <th>12</th>\n      <td>4</td>\n      <td>649376502</td>\n      <td>10.082</td>\n      <td>15.897</td>\n      <td>3.586</td>\n      <td>19099255</td>\n      <td>30I8399019012</td>\n    </tr>\n    <tr>\n      <th>13</th>\n      <td>4</td>\n      <td>648721322</td>\n      <td>10.233</td>\n      <td>16.155</td>\n      <td>3.478</td>\n      <td>19079985</td>\n      <td>30I8399019013</td>\n    </tr>\n  </tbody>\n</table>\n</div>"
     },
     "metadata": {},
     "execution_count": 22
    }
   ],
   "source": [
    "# benchmarking throughput\n",
    "\n",
    "target_ids = [\n",
    "    '30I8399019000',\n",
    "    '30I8399019001',\n",
    "    '30I8399019002',\n",
    "    '30I8399019003',\n",
    "    '30I8399019004',\n",
    "    '30I8399019005',\n",
    "    '30I8399019006',\n",
    "    '30I8399019007',\n",
    "    '30I8399019008',\n",
    "    '30I8399019009',\n",
    "    '30I8399019010',\n",
    "    '30I8399019011',\n",
    "    '30I8399019012',\n",
    "    '30I8399019013',\n",
    "]\n",
    "base_dir = '../'\n",
    "download_dir = 'tmp/collect-all'\n",
    "benchmark_dir = 'tmp/benchmark_throughput'\n",
    "\n",
    "def parse_elapsed(lines):\n",
    "    ret = {}\n",
    "    for x in lines:\n",
    "        key, value = x.split('\\t')\n",
    "        m, s = value.replace('s', '').split('m')\n",
    "        ret[key] = float(m)*60 + float(s)\n",
    "    return ret\n",
    "\n",
    "def file_stat(files):\n",
    "    ret = {}\n",
    "    ret['file_num'] = len(files)\n",
    "    ret['file_size'] = reduce(lambda a,b: a+b ,map(os.path.getsize, files))\n",
    "\n",
    "    return ret\n",
    "\n",
    "cmd_rm_stat = 'cd {base_dir} && mkdir -p {benchmark_dir} && rm -f {benchmark_dir}/stat-{id}.json'\n",
    "cmd_calc_stat = 'cd {base_dir} && time python3 lastomesh.py --local-scheduler --workers 4 DownloadShizuokaPCD --product-id {id} --output-dir {benchmark_dir} --work-dir {download_dir}/{id}'\n",
    "\n",
    "throughputs = []\n",
    "for id in target_ids:\n",
    "\n",
    "    # ファイル数, 容量\n",
    "    las_files = list(glob.glob(os.path.join(base_dir, download_dir, id, '*.las')))\n",
    "    fstat = file_stat(las_files)\n",
    "    !{cmd_rm_stat.format(base_dir=base_dir, benchmark_dir=benchmark_dir, id=id)}\n",
    "\n",
    "    # 読み込み&特徴量算出 時間計測\n",
    "    output = !{cmd_calc_stat.format(base_dir=base_dir, download_dir=download_dir, benchmark_dir=benchmark_dir, id=id)}\n",
    "    elapsed = parse_elapsed(output[-3:])\n",
    "\n",
    "    # 点の数\n",
    "    filepath = os.path.join(base_dir, benchmark_dir, 'stat-{}.json'.format(id))\n",
    "    with open(filepath, 'r') as f:\n",
    "        pcd_stat = json.load(f)\n",
    "\n",
    "    # 結果まとめる\n",
    "    record = dict(fstat, **elapsed, point_num=pcd_stat['shape']['value'][0], id=id)\n",
    "    print(record)\n",
    "    throughputs.append(record)\n",
    "\n",
    "df_throughputs = pd.DataFrame(throughputs)\n",
    "df_throughputs"
   ]
  },
  {
   "cell_type": "code",
   "execution_count": 29,
   "metadata": {},
   "outputs": [
    {
     "output_type": "stream",
     "name": "stdout",
     "text": "1959808.4257140527 16.114103065974156 8.380174772813916\n"
    }
   ],
   "source": [
    "throughput_point = df_throughputs['point_num'].sum() / df_throughputs['real'].sum()\n",
    "file_size_sum = df_throughputs['file_size'].sum() / (1024 ** 3)\n",
    "elapsed_per_1gb = df_throughputs['real'].sum() / file_size_sum\n",
    "print(throughput_point, elapsed_per_1gb, file_size_sum)"
   ]
  }
 ],
 "metadata": {
  "language_info": {
   "codemirror_mode": {
    "name": "ipython",
    "version": 3
   },
   "file_extension": ".py",
   "mimetype": "text/x-python",
   "name": "python",
   "nbconvert_exporter": "python",
   "pygments_lexer": "ipython3",
   "version": "3.7.6-final"
  },
  "orig_nbformat": 2,
  "kernelspec": {
   "name": "python37664bitvenvvenv11a0a02e04af425b992f821ca4558704",
   "display_name": "Python 3.7.6 64-bit ('venv': venv)"
  }
 },
 "nbformat": 4,
 "nbformat_minor": 2
}