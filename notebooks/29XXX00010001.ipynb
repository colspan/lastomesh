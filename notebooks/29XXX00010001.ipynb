{
 "cells": [
  {
   "cell_type": "code",
   "execution_count": 1,
   "metadata": {},
   "outputs": [],
   "source": [
    "import numpy as np\n",
    "import open3d as o3d"
   ]
  },
  {
   "cell_type": "code",
   "execution_count": 2,
   "metadata": {},
   "outputs": [],
   "source": [
    "mesh_path = '../tmp/mesh-/29XXX00010001.ply'\n",
    "\n",
    "points = o3d.io.read_point_cloud(mesh_path)\n",
    "# mesh = o3d.io.read_triangle_mesh(mesh_path)\n",
    "# メッシュデータの表示\n",
    "o3d.visualization.draw_geometries([points])"
   ]
  },
  {
   "cell_type": "code",
   "execution_count": 3,
   "metadata": {},
   "outputs": [],
   "source": [
    "def cluster_pcd(pcd):\n",
    "    cluster = pcd.cluster_dbscan(1, 2)\n",
    "    point_num = len(cluster)\n",
    "    clusters = np.asarray(cluster)\n",
    "    cluster_indices = set(list(clusters))\n",
    "    filtered_pcds = [[] for _ in cluster_indices]\n",
    "    for k in cluster_indices:\n",
    "        filtered_indices = filter(lambda x: clusters[x] == k, range(point_num))\n",
    "        filtered_pcds[k] = pcd.select_down_sample(list(filtered_indices))\n",
    "    return filtered_pcds"
   ]
  },
  {
   "cell_type": "code",
   "execution_count": 4,
   "metadata": {},
   "outputs": [],
   "source": [
    "filtered_pcd = cluster_pcd(points)[0]\n",
    "\n",
    "filtered_pcd.estimate_normals(\n",
    "    o3d.geometry.KDTreeSearchParamHybrid(\n",
    "        radius=0.2,\n",
    "        max_nn=30))\n",
    "\n",
    "pcd_center =filtered_pcd.get_center().tolist()\n",
    "camera_location = pcd_center[:-1]+[pcd_center[-1]*100]\n",
    "# target_pcd, _ = target_pcd.remove_statistical_outlier(5, 1.5)\n",
    "# target_pcd.orient_normals_to_align_with_direction()\n",
    "filtered_pcd.orient_normals_towards_camera_location(camera_location)\n",
    "filtered_pcd = filtered_pcd.normalize_normals()"
   ]
  },
  {
   "cell_type": "code",
   "execution_count": 5,
   "metadata": {},
   "outputs": [],
   "source": [
    "# _, seg_plane = filtered_pcd.segment_plane(0.2, 3, 1000)\n",
    "# o3d.visualization.draw_geometries([filtered_pcd.select_down_sample(seg_plane)])"
   ]
  },
  {
   "cell_type": "code",
   "execution_count": 6,
   "metadata": {},
   "outputs": [],
   "source": [
    "o3d.visualization.draw_geometries([filtered_pcd])"
   ]
  },
  {
   "cell_type": "code",
   "execution_count": 7,
   "metadata": {},
   "outputs": [],
   "source": [
    "# mesh, filtered_pcd = filtered_pcd.hidden_point_removal(camera_location, radius=0.2)"
   ]
  },
  {
   "cell_type": "code",
   "execution_count": null,
   "metadata": {},
   "outputs": [],
   "source": [
    "radius = 0.1\n",
    "radii = [radius*2**i for i in range(7)]\n",
    "mesh = o3d.geometry.TriangleMesh.create_from_point_cloud_ball_pivoting(\n",
    "    filtered_pcd, o3d.utility.DoubleVector(radii))"
   ]
  },
  {
   "cell_type": "code",
   "execution_count": null,
   "metadata": {},
   "outputs": [],
   "source": [
    "o3d.visualization.draw_geometries([mesh])"
   ]
  },
  {
   "cell_type": "code",
   "execution_count": null,
   "metadata": {},
   "outputs": [],
   "source": [
    "# tetras = o3d.geometry.TetraMesh.create_from_point_cloud(points)\n",
    "# o3d.visualization.draw_geometries([tetras])"
   ]
  },
  {
   "cell_type": "code",
   "execution_count": null,
   "metadata": {},
   "outputs": [],
   "source": [
    "# values = compute_sined_distance(tetras.vertices)\n",
    "# surface = tetras.extract_triangle_mesh(o3d.utility.DoubleVector(values), level=0.0)\n",
    "# surface.cumpute_vertex_normals()"
   ]
  },
  {
   "cell_type": "code",
   "execution_count": null,
   "metadata": {},
   "outputs": [],
   "source": [
    "# o3d.visualization.draw_geometries([surface])"
   ]
  }
 ],
 "metadata": {
  "kernelspec": {
   "display_name": "Python 3",
   "language": "python",
   "name": "python3"
  },
  "language_info": {
   "codemirror_mode": {
    "name": "ipython",
    "version": 3
   },
   "file_extension": ".py",
   "mimetype": "text/x-python",
   "name": "python",
   "nbconvert_exporter": "python",
   "pygments_lexer": "ipython3",
   "version": "3.7.6"
  }
 },
 "nbformat": 4,
 "nbformat_minor": 4
}
